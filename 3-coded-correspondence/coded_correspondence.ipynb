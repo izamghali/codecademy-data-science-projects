{
 "cells": [
  {
   "cell_type": "markdown",
   "metadata": {},
   "source": [
    "# Casual Coded Correspondence: The Project\n",
    "\n",
    "In this project, you will be working to code and decode various messages between you and your fictional cryptography enthusiast pen pal Vishal. You and Vishal have been exchanging letters for quite some time now and have started to provide a puzzle in each one of your letters.  Here is his most recent letter:\n",
    "\n",
    "     Hey there! How have you been? I've been great! I just learned about this really cool type of cipher called a  Caesar Cipher. Here's how it works: You take your message, something like \"hello\" and then you shift all of the letters by a certain offset. For example, if I chose an offset of 3 and a message of \"hello\", I would code my message by shifting each letter 3 places to the left (with respect to the alphabet). So \"h\" becomes \"e\", \"e\" becomes, \"b\", \"l\" becomes \"i\", and \"o\" becomes \"l\". Then I have my coded message,\"ebiil\"! Now I can send you my message and the offset and you can decode it. The best thing is that Julius Caesar himself used this cipher, that's why it's called the Caesar Cipher! Isn't that so cool! Okay, now I'm going to send you a longer coded message that you have to decode yourself!\n",
    "    \n",
    "        xuo jxuhu! jxyi yi qd unqcfbu ev q squiqh syfxuh. muhu oek qrbu je tusetu yj? y xefu ie! iudt cu q cuiiqwu rqsa myjx jxu iqcu evviuj!\n",
    "    \n",
    "    This message has an offset of 10. Can you decode it?\n",
    "    \n",
    "\n",
    "#### Step 1: Decode Vishal's Message\n",
    "In the cell below, use your Python skills to decode Vishal's message and print the result. Hint: you can account for shifts that go past the end of the alphabet using the modulus operator, but I'll let you figure out how!"
   ]
  },
  {
   "cell_type": "code",
   "execution_count": 17,
   "metadata": {},
   "outputs": [
    {
     "name": "stdout",
     "output_type": "stream",
     "text": [
      "#1 message:\n",
      "hey there! this is an example of a caesar cipher were you able to decode it i hope so! send me a message back with the same offset!\n"
     ]
    }
   ],
   "source": [
    "# first we get the alphabet in a form of list\n",
    "# the alphabets_strings is for later \n",
    "import string\n",
    "basics = list(string.ascii_lowercase)\n",
    "\n",
    "# here we get 2 sets of alphabets, 2 sets of a-z\n",
    "alphabets = []\n",
    "for i in basics:\n",
    "    alphabets.append(i)\n",
    "for i in basics:\n",
    "    alphabets.append(i)\n",
    "\n",
    "alphabets_strings = \"\".join(alphabets)\n",
    "\n",
    "alphabet_length = len(alphabets) - 1\n",
    "# 4 Assigning the encoded message\n",
    "vishal_message_1 = \"xuo jxuhu! jxyi yi qd unqcfbu ev q squiqh syfxuh. muhu oek qrbu je tusetu yj? y xefu ie! iudt cu q cuiiqwu rqsa myjx jxu iqcu evviuj!\"\n",
    "\n",
    "# 5 Creating a function to decode vishal_message\n",
    "def decode(message, offset):\n",
    "  raw = []\n",
    "  outer = 0\n",
    "  message_length = len(message) -1\n",
    "  \n",
    "  while outer <= message_length:\n",
    "    initial_num = 0\n",
    "    inner = 0\n",
    "    while inner <= alphabet_length:\n",
    "      if message[outer] == alphabets[inner]:      \n",
    "        raw.append(alphabets[inner + offset])\n",
    "        break\n",
    "      elif message[outer] == \" \":\n",
    "        raw.append(\" \")\n",
    "        break\n",
    "      elif message[outer] == \"!\":\n",
    "        raw.append(\"!\")\n",
    "        break\n",
    "      inner += 1\n",
    "    outer += 1\n",
    "\n",
    "  decoded_message = \"\".join(raw)\n",
    "  return decoded_message\n",
    "\n",
    "print(\"#1 message:\")\n",
    "print(decode(vishal_message_1, 10))"
   ]
  },
  {
   "cell_type": "markdown",
   "metadata": {},
   "source": [
    "#### Step 2: Send Vishal a Coded Message\n",
    "Great job! Now send Vishal back a message using the same offset. Your message can be anything you want! Remember, coding happens in opposite direction of decoding."
   ]
  },
  {
   "cell_type": "code",
   "execution_count": 12,
   "metadata": {},
   "outputs": [
    {
     "name": "stdout",
     "output_type": "stream",
     "text": [
      "my encoded message:\n",
      "y tyt yj! y adum y sekbt\n",
      "\n",
      "my decoded message: \n",
      "i did it! i knew i could\n"
     ]
    }
   ],
   "source": [
    "# encode function is basically the same with decode function, only instead of adding the offset, it subtracts the offset\n",
    "def encode(message, offset):\n",
    "  raw = []\n",
    "  outer = 0\n",
    "  message_length, initial_length = len(message) - 1, len(alphabets) - 1\n",
    "  \n",
    "  while outer <= message_length:\n",
    "    initial_num = 0\n",
    "    inner = 0\n",
    "    while inner <= initial_length:\n",
    "      if message[outer] == alphabets[inner]:    \n",
    "        initial_num = inner  \n",
    "        raw.append(alphabets[initial_num - offset])\n",
    "        break\n",
    "      elif message[outer] == \" \":\n",
    "        raw.append(\" \")\n",
    "        break\n",
    "      elif message[outer] == \"!\":\n",
    "        raw.append(\"!\")\n",
    "        break\n",
    "      elif message[outer] == \",\":\n",
    "        raw.append(\",\")\n",
    "        break\n",
    "      elif message[outer] == \"'\":\n",
    "        raw.append(\"'\")\n",
    "        break\n",
    "      elif message[outer] == \".\":\n",
    "        raw.append(\".\")\n",
    "        break\n",
    "      inner += 1\n",
    "    outer += 1\n",
    "\n",
    "  encoded_message = \"\".join(raw)\n",
    "  return encoded_message\n",
    "\n",
    "my_message = \"i did it! i knew i could\"\n",
    "print(\"my encoded message:\")\n",
    "print(encode(my_message, 10))\n",
    "print(\"\")\n",
    "print(\"my decoded message: \")\n",
    "print(decode(encode(my_message, 10), 10))"
   ]
  },
  {
   "cell_type": "markdown",
   "metadata": {},
   "source": [
    "#### Step 3: Make functions for decoding and coding \n",
    "\n",
    "Vishal sent over another reply, this time with two coded messages!\n",
    "    \n",
    "    You're getting the hang of this! Okay here are two more messages, the first one is coded just like before with  an offset of ten, and it contains the hint for decoding the second message!\n",
    "    \n",
    "    First message:\n",
    "    \n",
    "        jxu evviuj veh jxu iusedt cuiiqwu yi vekhjuud.\n",
    "        \n",
    "    Second message:\n",
    "    \n",
    "        bqdradyuzs ygxfubxq omqemd oubtqde fa oapq kagd yqeemsqe ue qhqz yadq eqogdq!\n",
    "    \n",
    "Decode both of these messages. \n",
    "\n",
    "If you haven't already, define two functions `decoder(message, offset)` and `coder(message, offset)` that can be used to quickly decode and code messages given any offset."
   ]
  },
  {
   "cell_type": "code",
   "execution_count": 16,
   "metadata": {},
   "outputs": [
    {
     "name": "stdout",
     "output_type": "stream",
     "text": [
      "#2 message:\n",
      "the offset for the second message is fourteen\n"
     ]
    }
   ],
   "source": [
    "vishal_message_2 = \"jxu evviuj veh jxu iusedt cuiiqwu yi vekhjuud.\"\n",
    "print(\"#2 message:\")\n",
    "print(decode(vishal_message_2, 10))"
   ]
  },
  {
   "cell_type": "code",
   "execution_count": 15,
   "metadata": {},
   "outputs": [
    {
     "name": "stdout",
     "output_type": "stream",
     "text": [
      "#3 message:\n",
      "performing multiple caesar ciphers to code your messages is even more secure!\n"
     ]
    }
   ],
   "source": [
    "vishal_message_3 = \"bqdradyuzs ygxfubxq omqemd oubtqde fa oapq kagd yqeemsqe ue qhqz yadq eqogdq!\"\n",
    "print(\"#3 message:\")\n",
    "print(decode(vishal_message_3, 14))"
   ]
  },
  {
   "cell_type": "markdown",
   "metadata": {},
   "source": [
    "#### Step 4: Solving a Caesar Cipher without knowing the shift value\n",
    "\n",
    "Awesome work! While you were working to decode his last two messages, Vishal sent over another letter! He's really been bitten by the crytpo-bug. Read it and see what interesting task he has lined up for you this time.\n",
    "\n",
    "            Hello again friend! I knew you would love the Caesar Cipher, it's a cool simple way to encrypt messages. Did you know that back in Caesar's time, it was considered a very secure way of communication and it took a lot of effort to crack if you were unaware of the value of the shift? That's all changed with computers! Now we can brute force these kinds of ciphers very quickly, as I'm sure you can imagine.\n",
    "            \n",
    "            To test your cryptography skills, this next coded message is going to be harder than the last couple to crack. It's still going to be coded with a Caesar Cipher but this time I'm not going to tell you the value of   the shift. You'll have to brute force it yourself.\n",
    "            \n",
    "            Here's the coded message:\n",
    "            \n",
    "            vhfinmxkl atox kxgwxkxw tee hy maxlx hew vbiaxkl tl hulhexmx. px'ee atox mh kxteer lmxi ni hnk ztfx by px ptgm mh dxxi hnk fxlltzxl ltyx.\n",
    "            \n",
    "            Good luck!\n",
    "            \n",
    "Decode Vishal's most recent message and see what it says!"
   ]
  },
  {
   "cell_type": "code",
   "execution_count": 14,
   "metadata": {},
   "outputs": [
    {
     "name": "stdout",
     "output_type": "stream",
     "text": [
      "\n",
      "#4 message:\n",
      "computers have rendered all of these old ciphers obsolete well have to really step up our game if we want to keep our messages safe\n"
     ]
    }
   ],
   "source": [
    "vishal_message_4 = \"vhfinmxkl atox kxgwxkxw tee hy maxlx hew vbiaxkl hulhexmx. px'ee atox mh kxteer lmxi ni hnk ztfx by px ptgm mh dxxi hnk fxlltzxl ltyx.\"\n",
    "\n",
    "print(\"\")\n",
    "print(\"#4 message:\")\n",
    "print(decode(vishal_message_4, 7))"
   ]
  },
  {
   "cell_type": "markdown",
   "metadata": {},
   "source": [
    "#### Step 5: The Vigenère Cipher\n",
    "\n",
    "Great work! While you were working on the brute force cracking of the cipher, Vishal sent over another letter. That guy is a letter machine!\n",
    "\n",
    "            Salutations! As you can see, technology has made brute forcing simple ciphers like the Caesar Cipher extremely easy, and us crypto-enthusiasts have had to get more creative and use more complicated ciphers. This next cipher I'm going to teach you is the Vigenère Cipher, invented by an Italian cryptologist named Giovan Battista Bellaso (cool name eh?) in the 16th century, but named after another cryptologist from the 16th century, Blaise de Vigenère.\n",
    "            \n",
    "           The Vigenère Cipher is a polyalphabetic substitution cipher, as opposed to the Caesar Cipher which was a monoalphabetic substitution cipher. What this means is that opposed to having a single shift that is applied to every letter, the Vigenère Cipher has a different shift for each individual letter. The value of the shift for each letter is determined by a given keyword.\n",
    "           \n",
    "           Consider the message\n",
    "           \n",
    "               barry is the spy\n",
    "\n",
    "           If we want to code this message, first we choose a keyword. For this example, we'll use the keyword\n",
    "           \n",
    "               dog\n",
    "               \n",
    "           Now we use the repeat the keyword over and over to generate a _keyword phrase_ that is the same length as the message we want to code. So if we want to code the message \"barry is the spy\" our _keyword phrase_ is \"dogdo gd ogd ogd\". Now we are ready to start coding our message. We shift the each letter of our message by the place value of the corresponding letter in the keyword phrase, assuming that \"a\" has a place value of 0, \"b\" has a place value of 1, and so forth. Remember, we zero-index because this is Python we're talking about!\n",
    "\n",
    "                        message:       b  a  r  r  y    i  s   t  h  e   s  p  y\n",
    "                \n",
    "                 keyword phrase:       d  o  g  d  o    g  d   o  g  d   o  g  d\n",
    "                 \n",
    "          resulting place value:       4  14 15 12 16   24 11  21 25 22  22 17 5\n",
    "      \n",
    "            So we shift \"b\", which has an index of 1, by the index of \"d\", which is 3. This gives us an place value of 4, which is \"e\". Then continue the trend: we shift \"a\" by the place value of \"o\", 14, and get \"o\" again, we shift \"r\" by the place value of \"g\", 15, and get \"x\", shift the next \"r\" by 12 places and \"u\", and so forth. Once we complete all the shifts we end up with our coded message:\n",
    "            \n",
    "                eoxum ov hnh gvb\n",
    "                \n",
    "            As you can imagine, this is a lot harder to crack without knowing the keyword! So now comes the hard part. I'll give you a message and the keyword, and you'll see if you can figure out how to crack it! Ready? Okay here's my message:\n",
    "            \n",
    "                dfc aruw fsti gr vjtwhr wznj? vmph otis! cbx swv jipreneo uhllj kpi rahjib eg fjdkwkedhmp!\n",
    "                \n",
    "            and the keyword to decode my message is \n",
    "            \n",
    "                friends\n",
    "                \n",
    "            Because that's what we are! Good luck friend!\n",
    "           \n",
    "And there it is. Vishal has given you quite the assignment this time! Try to decode his message. It may be helpful to create a function that takes two parameters, the coded message and the keyword and then work towards a solution from there.\n",
    "\n",
    "**NOTE:** Watch out for spaces and punctuation! When there's a space or punctuation mark in the original message, there should be a space/punctuation mark in the corresponding repeated-keyword string as well! "
   ]
  },
  {
   "cell_type": "code",
   "execution_count": 5,
   "metadata": {},
   "outputs": [
    {
     "name": "stdout",
     "output_type": "stream",
     "text": [
      "#5 message: \n",
      "you were able to decode this? nice work! you are becoming quite the expert at crytography!\n"
     ]
    }
   ],
   "source": [
    "keyword, vishal_message_5 = \"friends\", \"txm srom vkda gl lzlgzr qpdb? fepb ejac! ubr imn tapludwy mhfbz cza ruxzal wg zztcgcexxch!\"\n",
    "\n",
    "def decode_vigenere(message, keyword):\n",
    "  \n",
    "  # return_index function is to return list of index based on its alphabet number value. So if we had \"dog\" strings, it should return [3, 14, 6].\n",
    "  def return_index(message):\n",
    "    index_list = []\n",
    "    index = 0\n",
    "    while index <= len(message) - 1:\n",
    "        if message[index] == \" \" or message[index] == \"?\" or message[index] == \"!\":\n",
    "            if message[index] == \" \": \n",
    "                index_list.append(\" \")\n",
    "            elif message[index] == \"?\":\n",
    "                index_list.append(\"?\")\n",
    "            elif message[index] == \"!\":\n",
    "                index_list.append(\"!\")\n",
    "        else:\n",
    "            index_list.append(alphabets_strings.find(message[index]))\n",
    "        index += 1\n",
    "    return index_list\n",
    "\n",
    "  # phrase function is to return the keyword phrase. If we had a message \"ymlok cp fbb ejv?\" with a keyword \"dog\", it should return string \"dogdo gd ogd ogd?\"\n",
    "  def phrase(message, keyword):\n",
    "    index = 0\n",
    "    counter = 0\n",
    "    keyword_phrase = []\n",
    "    while index <= len(message) - 1:\n",
    "        if message[index] != \" \" and message[index] != \"?\" and message[index] != \"!\":\n",
    "            keyword_phrase.append(keyword[counter])\n",
    "            counter += 1\n",
    "        else:\n",
    "            if message[index] == \" \":\n",
    "                keyword_phrase.append(\" \")\n",
    "            elif message[index] == \"?\":\n",
    "                keyword_phrase.append(\"?\")\n",
    "            else:\n",
    "                keyword_phrase.append(\"!\")\n",
    "        if counter == len(keyword):\n",
    "            counter = 0\n",
    "        index += 1\n",
    "    return \"\".join(keyword_phrase)\n",
    "      \n",
    "  # function to add the indicies\n",
    "  def combine_index(message_index, keyword_phrase_index):\n",
    "    index = 0 \n",
    "    combined_index = []\n",
    "    while index <= len(message_index) - 1:\n",
    "        if message_index[index] == \"!\" or message_index[index] == \"?\" or message_index[index] == \" \":\n",
    "            if message_index[index] == \"!\":\n",
    "                combined_index.append(\"!\")\n",
    "            elif message_index[index] == \" \":\n",
    "                combined_index.append(\" \")\n",
    "            else:\n",
    "                combined_index.append(\"?\")\n",
    "        else:\n",
    "            combined_index.append(message_index[index] + keyword_phrase_index[index])\n",
    "        index += 1\n",
    "    return combined_index\n",
    "      \n",
    "  def crack(the_code):\n",
    "    real_message = []\n",
    "    for i in the_code:\n",
    "        if i == \"!\" or i == \"?\" or i == \" \":\n",
    "            if i == \" \":\n",
    "                real_message.append(\" \")\n",
    "            elif i == \"!\":\n",
    "                real_message.append(\"!\")\n",
    "            else:\n",
    "                real_message.append(\"?\")\n",
    "        else:\n",
    "            real_message.append(alphabets[i])\n",
    "    return \"\".join(real_message)\n",
    "\n",
    "# here, we're trying to get the message's index in a form of a list\n",
    "  message_index = return_index(message)\n",
    "# then we're trying to get the keyword phrase index by calling the phrase function, then return_index function\n",
    "  keyword_phrase_index = return_index(phrase(message, keyword))\n",
    "# at this point, we should have our message index and the keyword phrase index, then we add them up\n",
    "  real_message = combine_index(message_index, keyword_phrase_index)\n",
    "# after adding up the indicies, we should have a list of index that holds the coded message\n",
    "  code = crack(real_message)\n",
    "# then we call the crack function to match the index based on the alphabet\n",
    "  return code\n",
    "# after that we return the code\n",
    "\n",
    "\n",
    "# the encode_vigenere function below is basically the same as decode_vigenere function, but instead of addip up, it'll subtract the indicies\n",
    "def encode_vigenere(message, keyword):\n",
    "  def return_index(message):\n",
    "    index_list = []\n",
    "    index = 0\n",
    "    while index <= len(message) - 1:\n",
    "        if message[index] == \" \" or message[index] == \"?\" or message[index] == \"!\":\n",
    "            if message[index] == \" \": \n",
    "                index_list.append(\" \")\n",
    "            elif message[index] == \"?\":\n",
    "                index_list.append(\"?\")\n",
    "            elif message[index] == \"!\":\n",
    "                index_list.append(\"!\")\n",
    "        else:\n",
    "            index_list.append(alphabets_strings.find(message[index]))\n",
    "        index += 1\n",
    "    return index_list\n",
    "\n",
    "  def phrase(message, keyword):\n",
    "    index = 0\n",
    "    counter = 0\n",
    "    keyword_phrase = []\n",
    "    while index <= len(message) - 1:\n",
    "        if message[index] != \" \" and message[index] != \"?\" and message[index] != \"!\":\n",
    "            keyword_phrase.append(keyword[counter])\n",
    "            counter += 1\n",
    "        else:\n",
    "            if message[index] == \" \":\n",
    "                keyword_phrase.append(\" \")\n",
    "            elif message[index] == \"?\":\n",
    "                keyword_phrase.append(\"?\")\n",
    "            else:\n",
    "                keyword_phrase.append(\"!\")\n",
    "        if counter == len(keyword):\n",
    "            counter = 0\n",
    "        index += 1\n",
    "    return \"\".join(keyword_phrase)\n",
    "      \n",
    "\n",
    "  # function to add the indicies\n",
    "  def combine_index(message_index, keyword_phrase_index):\n",
    "    index = 0 \n",
    "    combined_index = []\n",
    "    while index <= len(message_index) - 1:\n",
    "        if message_index[index] == \"!\" or message_index[index] == \"?\" or message_index[index] == \" \":\n",
    "            if message_index[index] == \"!\":\n",
    "                combined_index.append(\"!\")\n",
    "            elif message_index[index] == \" \":\n",
    "                combined_index.append(\" \")\n",
    "            else:\n",
    "                combined_index.append(\"?\")\n",
    "        else:\n",
    "            combined_index.append(message_index[index] - keyword_phrase_index[index])\n",
    "        index += 1\n",
    "    return combined_index\n",
    "      \n",
    "  def crack(the_code):\n",
    "    real_message = []\n",
    "    for i in the_code:\n",
    "        if i == \"!\" or i == \"?\" or i == \" \":\n",
    "            if i == \" \":\n",
    "                real_message.append(\" \")\n",
    "            elif i == \"!\":\n",
    "                real_message.append(\"!\")\n",
    "            else:\n",
    "                real_message.append(\"?\")\n",
    "        else:\n",
    "            real_message.append(alphabets[i])\n",
    "    return \"\".join(real_message)\n",
    "  message_index = return_index(message)\n",
    "  keyword_phrase_index = return_index(phrase(message, keyword))\n",
    "  real_message = combine_index(message_index, keyword_phrase_index)\n",
    "  code = crack(real_message)\n",
    "  return code\n",
    "\n",
    "print(\"#5 message: \")\n",
    "print(decode_vigenere(vishal_message_5, keyword))"
   ]
  },
  {
   "cell_type": "markdown",
   "metadata": {
    "collapsed": true
   },
   "source": [
    "#### Step 6: Send a message with the  Vigenère Cipher\n",
    "Great work decoding the message. For your final task, write a function that can encode a message using a given keyword and write out a message to send to Vishal!\n",
    "\n",
    "*As a bonus, try calling your decoder function on the result of your encryption function. You should get the original message back!*"
   ]
  },
  {
   "cell_type": "code",
   "execution_count": 9,
   "metadata": {},
   "outputs": [
    {
     "name": "stdout",
     "output_type": "stream",
     "text": [
      "my encoded message:\n",
      "c oauuudf wasjenv abn npanflln!\n",
      "\n",
      "my decoded message:\n",
      "i finally cracked the vigenere!\n"
     ]
    }
   ],
   "source": [
    "my_message = \"i finally cracked the vigenere!\"\n",
    "my_keyword = \"grit\"\n",
    "print(\"my encoded message:\")\n",
    "print(encode_vigenere(my_message, my_keyword))\n",
    "print(\"\")\n",
    "print(\"my decoded message:\")\n",
    "reverse = encode_vigenere(my_message, my_keyword)\n",
    "print(decode_vigenere(reverse, my_keyword))"
   ]
  },
  {
   "cell_type": "markdown",
   "metadata": {},
   "source": [
    "#### Conclusion\n",
    "Over the course of this project you've learned about two different cipher methods and have used your Python skills to code and decode messages. There are all types of other facinating ciphers out there to explore, and Python is the perfect language to implement them with, so go exploring! "
   ]
  }
 ],
 "metadata": {
  "kernelspec": {
   "display_name": "Python 3 (ipykernel)",
   "language": "python",
   "name": "python3"
  },
  "language_info": {
   "codemirror_mode": {
    "name": "ipython",
    "version": 3
   },
   "file_extension": ".py",
   "mimetype": "text/x-python",
   "name": "python",
   "nbconvert_exporter": "python",
   "pygments_lexer": "ipython3",
   "version": "3.9.13"
  }
 },
 "nbformat": 4,
 "nbformat_minor": 2
}
